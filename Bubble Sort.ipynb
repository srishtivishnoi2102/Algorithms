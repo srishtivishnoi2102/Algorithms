{
 "cells": [
  {
   "cell_type": "markdown",
   "metadata": {},
   "source": [
    "# Bubble sort\n",
    "sometimes referred to as sinking sort, is a simple sorting algorithm that repeatedly steps through the list, compares adjacent elements and swaps them if they are in the wrong order. The pass through the list is repeated until the list is sorted. The algorithm, which is a comparison sort, is named for the way smaller or larger elements \"bubble\" to the top of the list. Although the algorithm is simple, it is too slow and impractical for most problems even when compared to insertion sort.Bubble sort can be practical if the input is in mostly sorted order with some out-of-order elements nearly in position.\n",
    "\n",
    "<img src=\"bubble_sort.png\">"
   ]
  },
  {
   "cell_type": "markdown",
   "metadata": {},
   "source": [
    " if number of element = n\n",
    " \n",
    "Number of pass = n-1\n",
    "\n",
    "Number of comparison= n-pass-1"
   ]
  },
  {
   "cell_type": "code",
   "execution_count": 18,
   "metadata": {},
   "outputs": [],
   "source": [
    "\n",
    "def bubble_sort(arr):\n",
    "    for passnum in range(1,len(arr)):       # pass =1 to pass=n\n",
    "        print(\"Pass Number :\",passnum)\n",
    "        for i in range(len(arr)-passnum):    \n",
    "            if arr[i]>arr[i+1]:\n",
    "                arr[i],arr[i+1]=arr[i+1],arr[i]   # swap if out of order\n",
    "            print(\"Iteration\",i,\":\",arr[:len(arr)-passnum+1])\n",
    "        print()\n",
    "        print(\"At the end of pass\", passnum,\"arr is :\",arr)\n",
    "        print()\n",
    "    return arr"
   ]
  },
  {
   "cell_type": "code",
   "execution_count": 19,
   "metadata": {},
   "outputs": [
    {
     "name": "stdout",
     "output_type": "stream",
     "text": [
      "Initially array is :   [5, 3, 1, 9, 8, 2, 4, 7]\n",
      "Length of array : 8\n",
      "Pass Number : 1\n",
      "Iteration 0 : [3, 5, 1, 9, 8, 2, 4, 7]\n",
      "Iteration 1 : [3, 1, 5, 9, 8, 2, 4, 7]\n",
      "Iteration 2 : [3, 1, 5, 9, 8, 2, 4, 7]\n",
      "Iteration 3 : [3, 1, 5, 8, 9, 2, 4, 7]\n",
      "Iteration 4 : [3, 1, 5, 8, 2, 9, 4, 7]\n",
      "Iteration 5 : [3, 1, 5, 8, 2, 4, 9, 7]\n",
      "Iteration 6 : [3, 1, 5, 8, 2, 4, 7, 9]\n",
      "\n",
      "At the end of pass 1 arr is : [3, 1, 5, 8, 2, 4, 7, 9]\n",
      "\n",
      "Pass Number : 2\n",
      "Iteration 0 : [1, 3, 5, 8, 2, 4, 7]\n",
      "Iteration 1 : [1, 3, 5, 8, 2, 4, 7]\n",
      "Iteration 2 : [1, 3, 5, 8, 2, 4, 7]\n",
      "Iteration 3 : [1, 3, 5, 2, 8, 4, 7]\n",
      "Iteration 4 : [1, 3, 5, 2, 4, 8, 7]\n",
      "Iteration 5 : [1, 3, 5, 2, 4, 7, 8]\n",
      "\n",
      "At the end of pass 2 arr is : [1, 3, 5, 2, 4, 7, 8, 9]\n",
      "\n",
      "Pass Number : 3\n",
      "Iteration 0 : [1, 3, 5, 2, 4, 7]\n",
      "Iteration 1 : [1, 3, 5, 2, 4, 7]\n",
      "Iteration 2 : [1, 3, 2, 5, 4, 7]\n",
      "Iteration 3 : [1, 3, 2, 4, 5, 7]\n",
      "Iteration 4 : [1, 3, 2, 4, 5, 7]\n",
      "\n",
      "At the end of pass 3 arr is : [1, 3, 2, 4, 5, 7, 8, 9]\n",
      "\n",
      "Pass Number : 4\n",
      "Iteration 0 : [1, 3, 2, 4, 5]\n",
      "Iteration 1 : [1, 2, 3, 4, 5]\n",
      "Iteration 2 : [1, 2, 3, 4, 5]\n",
      "Iteration 3 : [1, 2, 3, 4, 5]\n",
      "\n",
      "At the end of pass 4 arr is : [1, 2, 3, 4, 5, 7, 8, 9]\n",
      "\n",
      "Pass Number : 5\n",
      "Iteration 0 : [1, 2, 3, 4]\n",
      "Iteration 1 : [1, 2, 3, 4]\n",
      "Iteration 2 : [1, 2, 3, 4]\n",
      "\n",
      "At the end of pass 5 arr is : [1, 2, 3, 4, 5, 7, 8, 9]\n",
      "\n",
      "Pass Number : 6\n",
      "Iteration 0 : [1, 2, 3]\n",
      "Iteration 1 : [1, 2, 3]\n",
      "\n",
      "At the end of pass 6 arr is : [1, 2, 3, 4, 5, 7, 8, 9]\n",
      "\n",
      "Pass Number : 7\n",
      "Iteration 0 : [1, 2]\n",
      "\n",
      "At the end of pass 7 arr is : [1, 2, 3, 4, 5, 7, 8, 9]\n",
      "\n",
      "Sorted array is :   [1, 2, 3, 4, 5, 7, 8, 9]\n"
     ]
    }
   ],
   "source": [
    "arr=[5,3,1,9,8,2,4,7]\n",
    "print(\"Initially array is :  \", arr)\n",
    "print(\"Length of array :\",len(arr))\n",
    "arr=bubble_sort(arr)\n",
    "print(\"Sorted array is :  \", arr)\n"
   ]
  },
  {
   "cell_type": "code",
   "execution_count": null,
   "metadata": {},
   "outputs": [],
   "source": []
  },
  {
   "cell_type": "code",
   "execution_count": null,
   "metadata": {},
   "outputs": [],
   "source": []
  },
  {
   "cell_type": "code",
   "execution_count": null,
   "metadata": {},
   "outputs": [],
   "source": []
  },
  {
   "cell_type": "code",
   "execution_count": null,
   "metadata": {},
   "outputs": [],
   "source": []
  },
  {
   "cell_type": "markdown",
   "metadata": {},
   "source": [
    "**Worst and Average Case Time Complexity: O(n*n). Worst case occurs when array is reverse sorted.**\n",
    "\n",
    "**Best Case Time Complexity: O(n). Best case occurs when array is already sorted.**\n",
    "\n",
    "**Auxiliary Space: O(1)**\n",
    "\n",
    "**Boundary Cases: Bubble sort takes minimum time (Order of n) when elements are already sorted.**\n",
    "\n",
    "**Sorting In Place: Yes**\n",
    "\n",
    "**Stable: Yes**"
   ]
  },
  {
   "cell_type": "code",
   "execution_count": null,
   "metadata": {},
   "outputs": [],
   "source": []
  }
 ],
 "metadata": {
  "kernelspec": {
   "display_name": "Python 3",
   "language": "python",
   "name": "python3"
  },
  "language_info": {
   "codemirror_mode": {
    "name": "ipython",
    "version": 3
   },
   "file_extension": ".py",
   "mimetype": "text/x-python",
   "name": "python",
   "nbconvert_exporter": "python",
   "pygments_lexer": "ipython3",
   "version": "3.6.5"
  }
 },
 "nbformat": 4,
 "nbformat_minor": 2
}
