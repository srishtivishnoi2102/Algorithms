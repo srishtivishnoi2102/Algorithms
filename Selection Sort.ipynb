{
 "cells": [
  {
   "cell_type": "markdown",
   "metadata": {},
   "source": [
    "# A Sorting Algorithm is used to rearrange a given array or list elements according to a comparison operator on the elements. The comparison operator is used to decide the new order of element in the respective data structure."
   ]
  },
  {
   "cell_type": "markdown",
   "metadata": {},
   "source": [
    "## 1. Selection Sort\n",
    "\n",
    "The selection sort algorithm sorts an array by repeatedly finding the minimum element (considering ascending order) from unsorted part and putting it at the beginning. The algorithm maintains two subarrays in a given array.\n",
    "\n",
    "1) The subarray which is already sorted.\n",
    "\n",
    "2) Remaining subarray which is unsorted.\n",
    "\n",
    "In every iteration of selection sort, the minimum element (considering ascending order) from the unsorted subarray is picked and moved to the sorted subarray.\n",
    "\n"
   ]
  },
  {
   "cell_type": "markdown",
   "metadata": {},
   "source": [
    "<img src=\"selection_sort.jpg\">\n"
   ]
  },
  {
   "cell_type": "code",
   "execution_count": 7,
   "metadata": {},
   "outputs": [],
   "source": [
    "\n",
    "def selection_sort(arr):\n",
    "    for i in range(len(arr)-1):\n",
    "        index_of_min_element=i\n",
    "        for j in range(i+1,len(arr)):      \n",
    "            if arr[j]<arr[index_of_min_element]:\n",
    "                index_of_min_element=j\n",
    "         # swaapping ith minimum element with ith element\n",
    "        arr[i],arr[index_of_min_element]=arr[index_of_min_element],arr[i] \n",
    "        print(\"In \",i+1,\"iteration : arr is \",arr)\n",
    "    return arr"
   ]
  },
  {
   "cell_type": "code",
   "execution_count": 8,
   "metadata": {},
   "outputs": [
    {
     "name": "stdout",
     "output_type": "stream",
     "text": [
      "Initially array is :   [14, 27, 10, 33, 35, 19, 44, 42]\n",
      "Length of array : 8\n",
      "In  1 iteration : arr is  [10, 27, 14, 33, 35, 19, 44, 42]\n",
      "In  2 iteration : arr is  [10, 14, 27, 33, 35, 19, 44, 42]\n",
      "In  3 iteration : arr is  [10, 14, 19, 33, 35, 27, 44, 42]\n",
      "In  4 iteration : arr is  [10, 14, 19, 27, 35, 33, 44, 42]\n",
      "In  5 iteration : arr is  [10, 14, 19, 27, 33, 35, 44, 42]\n",
      "In  6 iteration : arr is  [10, 14, 19, 27, 33, 35, 44, 42]\n",
      "In  7 iteration : arr is  [10, 14, 19, 27, 33, 35, 42, 44]\n",
      "Sorted array is :   [10, 14, 19, 27, 33, 35, 42, 44]\n"
     ]
    }
   ],
   "source": [
    "arr=[14,27,10,33,35,19,44,42]\n",
    "print(\"Initially array is :  \", arr)\n",
    "print(\"Length of array :\",len(arr))\n",
    "arr=selection_sort(arr)\n",
    "print(\"Sorted array is :  \", arr)\n"
   ]
  },
  {
   "cell_type": "markdown",
   "metadata": {},
   "source": [
    "## Time Complexity : O(n2)\n",
    "## Space Complexity : O(1)\n",
    "## Stability : The default implementation is not stable. However it can be made stable. Please see stable selection sort for details.\n",
    "\n",
    "## In Place : Yes, it does not require extra space.\n"
   ]
  },
  {
   "cell_type": "code",
   "execution_count": null,
   "metadata": {},
   "outputs": [],
   "source": []
  },
  {
   "cell_type": "code",
   "execution_count": null,
   "metadata": {},
   "outputs": [],
   "source": []
  },
  {
   "cell_type": "code",
   "execution_count": null,
   "metadata": {},
   "outputs": [],
   "source": []
  }
 ],
 "metadata": {
  "kernelspec": {
   "display_name": "Python 3",
   "language": "python",
   "name": "python3"
  },
  "language_info": {
   "codemirror_mode": {
    "name": "ipython",
    "version": 3
   },
   "file_extension": ".py",
   "mimetype": "text/x-python",
   "name": "python",
   "nbconvert_exporter": "python",
   "pygments_lexer": "ipython3",
   "version": "3.6.5"
  }
 },
 "nbformat": 4,
 "nbformat_minor": 2
}
